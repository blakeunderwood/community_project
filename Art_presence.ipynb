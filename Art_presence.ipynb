{
  "nbformat": 4,
  "nbformat_minor": 0,
  "metadata": {
    "colab": {
      "provenance": [],
      "mount_file_id": "1FZTGm6DE4V14Q3P91QgDs6Vlp082PVof",
      "authorship_tag": "ABX9TyNaxOxAC4MH2GRoyPQmJEPx",
      "include_colab_link": true
    },
    "kernelspec": {
      "name": "python3",
      "display_name": "Python 3"
    },
    "language_info": {
      "name": "python"
    }
  },
  "cells": [
    {
      "cell_type": "markdown",
      "metadata": {
        "id": "view-in-github",
        "colab_type": "text"
      },
      "source": [
        "<a href=\"https://colab.research.google.com/github/blakeunderwood/community_project/blob/main/Art_presence.ipynb\" target=\"_parent\"><img src=\"https://colab.research.google.com/assets/colab-badge.svg\" alt=\"Open In Colab\"/></a>"
      ]
    },
    {
      "cell_type": "code",
      "execution_count": 1,
      "metadata": {
        "colab": {
          "base_uri": "https://localhost:8080/"
        },
        "id": "DVZ6iJUyWrOe",
        "outputId": "41b6cac7-c115-42a8-a707-abe56184a835"
      },
      "outputs": [
        {
          "output_type": "stream",
          "name": "stdout",
          "text": [
            "       County  Art Presence\n",
            "0   Appanoose             1\n",
            "1   Jefferson             3\n",
            "2     Fayette             1\n",
            "3     Wapello             2\n",
            "4        Page             3\n",
            "..        ...           ...\n",
            "94      Mills             1\n",
            "95      Sioux             0\n",
            "96   Madison              0\n",
            "97     Warren             2\n",
            "98     Dallas             0\n",
            "\n",
            "[99 rows x 2 columns]\n"
          ]
        }
      ],
      "source": [
        "import pandas as pd\n",
        "\n",
        "# THIS CODE CREATES THE \"ART PRESENCE\" DATASET AND IS USED FOR VISUALIZING\n",
        "# THE DISTRIBUTION OF ART ACROSS IOWA BY COUNTY.\n",
        "counties_list = pd.read_excel(\"/content/Iowa_counties_list.xlsx\")\n",
        "counties_list['Art Presence'] = 0\n",
        "\n",
        "# we use data about art centers, performing art cents, and art museums to determine art presence.\n",
        "art_centers_data = pd.read_csv(\"/content/artCenters.csv\")\n",
        "performing_art_centers_data = pd.read_csv(\"/content/performing_arts.csv\")\n",
        "art_museums_data = pd.read_csv(\"/content/artmuseums.txt\")\n",
        "\n",
        "for county in art_centers_data['county']:\n",
        "    county = county.strip()\n",
        "    if county in counties_list['County'].values:\n",
        "        counties_list.loc[counties_list['County'] == county, 'Art Presence'] += 1\n",
        "\n",
        "for county in performing_art_centers_data['county']:\n",
        "    county = county.strip()\n",
        "    if county in counties_list['County'].values:\n",
        "        counties_list.loc[counties_list['County'] == county, 'Art Presence'] += 1\n",
        "\n",
        "for county in art_museums_data['county']:\n",
        "    county = county.strip()\n",
        "    if county in counties_list['County'].values:\n",
        "        counties_list.loc[counties_list['County'] == county, 'Art Presence'] += 1\n",
        "\n",
        "print(counties_list)\n"
      ]
    },
    {
      "cell_type": "code",
      "source": [
        "# for viewing any counties art presence\n",
        "selected_county = 'Polk'\n",
        "print(\"Art Presence in \" + selected_county + \" county: \")\n",
        "print(counties_list.loc[counties_list['County'] == selected_county, 'Art Presence'].values[0])"
      ],
      "metadata": {
        "colab": {
          "base_uri": "https://localhost:8080/"
        },
        "id": "kp7XD25Af-Qp",
        "outputId": "e90cac80-02c6-4201-ba3e-6747287cd9bb"
      },
      "execution_count": 10,
      "outputs": [
        {
          "output_type": "stream",
          "name": "stdout",
          "text": [
            "Art Presence in Polk county: \n",
            "21\n"
          ]
        }
      ]
    },
    {
      "cell_type": "code",
      "source": [
        "# ranking by art presence\n",
        "top_10_counties = counties_list.nlargest(10, 'Art Presence')\n",
        "print(top_10_counties)"
      ],
      "metadata": {
        "colab": {
          "base_uri": "https://localhost:8080/"
        },
        "id": "aFIw2pNTi3Of",
        "outputId": "cd670f67-e67b-401a-907b-b61608378f6e"
      },
      "execution_count": 12,
      "outputs": [
        {
          "output_type": "stream",
          "name": "stdout",
          "text": [
            "         County  Art Presence\n",
            "89         Polk            21\n",
            "78        Scott            10\n",
            "84         Linn            10\n",
            "28   Black Hawk             9\n",
            "76      Johnson             9\n",
            "80      Dubuque             8\n",
            "58        Story             7\n",
            "23      Clinton             6\n",
            "34  Cerro Gordo             6\n",
            "11  Buena Vista             5\n"
          ]
        }
      ]
    },
    {
      "cell_type": "code",
      "source": [
        "# number of counties without notable art presence\n",
        "counties_with_0_art_presence = counties_list[counties_list['Art Presence'] == 0]\n",
        "print(counties_with_0_art_presence.shape[0])"
      ],
      "metadata": {
        "colab": {
          "base_uri": "https://localhost:8080/"
        },
        "id": "QRdEqASpjOF4",
        "outputId": "a5501ca8-18d1-4db4-c924-275f259a0a1c"
      },
      "execution_count": 13,
      "outputs": [
        {
          "output_type": "stream",
          "name": "stdout",
          "text": [
            "34\n"
          ]
        }
      ]
    }
  ]
}
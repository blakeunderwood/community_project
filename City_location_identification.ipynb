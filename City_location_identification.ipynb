{
  "nbformat": 4,
  "nbformat_minor": 0,
  "metadata": {
    "colab": {
      "provenance": [],
      "authorship_tag": "ABX9TyNbaDveIfrKOTVqEZVDDLTs",
      "include_colab_link": true
    },
    "kernelspec": {
      "name": "python3",
      "display_name": "Python 3"
    },
    "language_info": {
      "name": "python"
    }
  },
  "cells": [
    {
      "cell_type": "markdown",
      "metadata": {
        "id": "view-in-github",
        "colab_type": "text"
      },
      "source": [
        "<a href=\"https://colab.research.google.com/github/blakeunderwood/community_project/blob/main/City_location_identification.ipynb\" target=\"_parent\"><img src=\"https://colab.research.google.com/assets/colab-badge.svg\" alt=\"Open In Colab\"/></a>"
      ]
    },
    {
      "cell_type": "code",
      "execution_count": 1,
      "metadata": {
        "colab": {
          "base_uri": "https://localhost:8080/"
        },
        "id": "qsJlVHc-KpEp",
        "outputId": "6a7a56b5-aa64-4aaf-ed99-4b24afb5c859"
      },
      "outputs": [
        {
          "output_type": "stream",
          "name": "stdout",
          "text": [
            "[{'City': 'Ames', 'Latitude': 50.536715, 'Longitude': 2.4086536}, {'City': 'Cedar Rapids', 'Latitude': 41.9758872, 'Longitude': -91.6704053}, {'City': 'Davenport', 'Latitude': 41.5235808, 'Longitude': -90.5770967}, {'City': 'Des Moines', 'Latitude': 41.5868654, 'Longitude': -93.6249494}, {'City': 'Dubuque', 'Latitude': 42.5006243, 'Longitude': -90.6647985}, {'City': 'Iowa City', 'Latitude': 41.6612561, 'Longitude': -91.5299106}, {'City': 'Sioux City', 'Latitude': 42.4966815, 'Longitude': -96.4058782}, {'City': 'Cedar Falls', 'Latitude': 42.5361805, 'Longitude': -92.447758}]\n"
          ]
        }
      ],
      "source": [
        "from geopy.geocoders import Nominatim\n",
        "\n",
        "# Your dataset with city names\n",
        "city_data = [\n",
        "    {\"City\": \"Ames\"},\n",
        "    {\"City\": \"Cedar Rapids\"},\n",
        "    {\"City\": \"Davenport\"},\n",
        "    {\"City\": \"Des Moines\"},\n",
        "    {\"City\": \"Dubuque\"},\n",
        "    {\"City\": \"Iowa City\"},\n",
        "    {\"City\": \"Sioux City\"},\n",
        "    {\"City\": \"Cedar Falls\"}\n",
        "]\n",
        "\n",
        "# Initialize geocoder\n",
        "geolocator = Nominatim(user_agent=\"my_geocoder\")\n",
        "\n",
        "# Function to get latitude and longitude for a city\n",
        "def get_coordinates(city):\n",
        "    location = geolocator.geocode(city)\n",
        "    if location:\n",
        "        return location.latitude, location.longitude\n",
        "    else:\n",
        "        return None, None\n",
        "\n",
        "# Add latitude and longitude to dataset\n",
        "for city_info in city_data:\n",
        "    city = city_info[\"City\"]\n",
        "    latitude, longitude = get_coordinates(city)\n",
        "    city_info[\"Latitude\"] = latitude\n",
        "    city_info[\"Longitude\"] = longitude\n",
        "\n",
        "# Print the updated dataset\n",
        "print(city_data)\n"
      ]
    },
    {
      "cell_type": "code",
      "source": [],
      "metadata": {
        "id": "VMRCzEjAMZPR"
      },
      "execution_count": null,
      "outputs": []
    }
  ]
}